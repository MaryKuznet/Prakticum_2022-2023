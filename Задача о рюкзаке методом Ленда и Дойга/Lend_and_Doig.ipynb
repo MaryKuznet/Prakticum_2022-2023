{
 "cells": [
  {
   "cell_type": "markdown",
   "id": "63b8908c",
   "metadata": {},
   "source": [
    "# Задача о рюкзаке 0-1\n",
    "## Метод Ленда и Дойга"
   ]
  },
  {
   "cell_type": "code",
   "execution_count": 23,
   "id": "8c927b0a",
   "metadata": {},
   "outputs": [],
   "source": [
    "import numpy as np\n",
    "from scipy.optimize import linprog"
   ]
  },
  {
   "cell_type": "markdown",
   "id": "f777bd13",
   "metadata": {},
   "source": [
    "Функции, реализующие метод Ленда и Дойга для задачи о рюкзаке:"
   ]
  },
  {
   "cell_type": "code",
   "execution_count": 24,
   "id": "86155e1f",
   "metadata": {},
   "outputs": [],
   "source": [
    "def serch_res(n, c, w, W, bounds):\n",
    "    x = linprog(-1*c, A_ub=w, b_ub=W, bounds=bounds, method= 'simplex')  ## Находим допустимое решение с помощью симплекс метода\n",
    "    \n",
    "    if x.success and all([x.x[i].is_integer() for i in range(n)]):       ## Если все переменные целочисленные то оно нам подходит\n",
    "        return x.x\n",
    "    \n",
    "    elif not x.success:                                                  ## Проверяем существует ли решение\n",
    "        return None\n",
    "        \n",
    "    else:                                                               ## Если есть нецелочисленные переменные,\n",
    "        i = [x.x[i].is_integer() for i in range(n)].index(False)        ## то делаем ветвление по первой нецелочисленной переменной\n",
    "        \n",
    "        bounds_1 = bounds.copy()                                        ## То есть рассматриваем два случая с дополнительным \n",
    "        bounds_2 = bounds.copy()                                        ## ограничением на неё, она либо 0, либо 1\n",
    "        bounds_1[i] = (0, 0)\n",
    "        bounds_2[i] = (1, 1)\n",
    "        \n",
    "        res_1 = serch_res(n, c, w, W, bounds_1)                         ## производим такое ветвление рекурсивно \n",
    "        res_2 = serch_res(n, c, w, W, bounds_2)\n",
    "\n",
    "        if res_1 is not None and res_2 is not None:                     ## из полученных результатов выбтраем то,\n",
    "            if res_1 @ c >= res_2 @ c:                                  ## при котором стоимоть всех вещей будет наибольшей\n",
    "                res = res_1\n",
    "            else:\n",
    "                res = res_2\n",
    "        elif res_1 is not None:\n",
    "            res = res_1\n",
    "        elif res_2 is not None:\n",
    "            res = res_2\n",
    "        else: \n",
    "            res = None\n",
    "        return res"
   ]
  },
  {
   "cell_type": "code",
   "execution_count": 25,
   "id": "cdd17aae",
   "metadata": {},
   "outputs": [],
   "source": [
    "def leng_and_doig(c, w, W): \n",
    "    n = len(c)\n",
    "    res = serch_res(n, c, w, W, bounds = [(0, 1)]*n) ## запускаем функцию, с помощью которой рекурсивно находим решение\n",
    "    return res, res @ c                                   ## выдаём максимальное значение функции"
   ]
  },
  {
   "cell_type": "markdown",
   "id": "1e71a860",
   "metadata": {},
   "source": [
    "## Тесты"
   ]
  },
  {
   "cell_type": "markdown",
   "id": "54b07a45",
   "metadata": {},
   "source": [
    "cost - вектор стоимостей, weight - вектор весов, W - вес рюкзака"
   ]
  },
  {
   "cell_type": "markdown",
   "id": "ae6c039b",
   "metadata": {},
   "source": [
    "Начнем с проверки граничных случаев, когда надо взять все вещи и когда нельзя взять ни одной:"
   ]
  },
  {
   "cell_type": "code",
   "execution_count": 26,
   "id": "15d55375",
   "metadata": {},
   "outputs": [
    {
     "name": "stdout",
     "output_type": "stream",
     "text": [
      "Можно взять вещи в соответствии с вектором: [1. 1. 1.]\n",
      "Максимальное значение функции = 6.0\n"
     ]
    }
   ],
   "source": [
    "cost = np.array([1, 2, 3])\n",
    "weight = np.array([[1, 2, 3]])\n",
    "W = 10.0\n",
    "x, f = leng_and_doig(cost, weight, W)\n",
    "print('Можно взять вещи в соответствии с вектором:', x)\n",
    "print('Максимальное значение функции =', f)"
   ]
  },
  {
   "cell_type": "code",
   "execution_count": 27,
   "id": "5fa8d0b2",
   "metadata": {},
   "outputs": [
    {
     "name": "stdout",
     "output_type": "stream",
     "text": [
      "Можно взять вещи в соответствии с вектором: [0. 0. 0.]\n",
      "Максимальное значение функции = 0.0\n"
     ]
    }
   ],
   "source": [
    "cost = np.array([1, 2, 3])\n",
    "weight = np.array([[2, 2, 2]])\n",
    "W = 1\n",
    "x, f = leng_and_doig(cost, weight, W)\n",
    "print('Можно взять вещи в соответствии с вектором:', x)\n",
    "print('Максимальное значение функции =', f)"
   ]
  },
  {
   "cell_type": "markdown",
   "id": "370c7062",
   "metadata": {},
   "source": [
    "Далее идут просто разные случаи:"
   ]
  },
  {
   "cell_type": "code",
   "execution_count": 8,
   "id": "8c2bf6fd",
   "metadata": {},
   "outputs": [
    {
     "name": "stdout",
     "output_type": "stream",
     "text": [
      "Можно взять вещи в соответствии с вектором: [0. 1.]\n",
      "Максимальное значение функции = 1.0\n"
     ]
    }
   ],
   "source": [
    "cost = np.array([1.0, 1.0])\n",
    "weight = np.array([[1.0, 1.0]])\n",
    "W = 1.0\n",
    "x, f = leng_and_doig(cost, weight, W)\n",
    "print('Можно взять вещи в соответствии с вектором:', x)\n",
    "print('Максимальное значение функции =', f)"
   ]
  },
  {
   "cell_type": "code",
   "execution_count": 28,
   "id": "3f3b7af0",
   "metadata": {},
   "outputs": [
    {
     "name": "stdout",
     "output_type": "stream",
     "text": [
      "Можно взять вещи в соответствии с вектором: [1. 1. 1. 0. 0. 1.]\n",
      "Максимальное значение функции = 60.0\n"
     ]
    }
   ],
   "source": [
    "cost = np.array([20.0, 5.0, 10.0, 40.0, 15.0, 25.0])\n",
    "weight = np.array([[1.0, 2.0, 3.0, 8.0, 7.0, 4.0]])\n",
    "W = 10.0\n",
    "x, f = leng_and_doig(cost, weight, W)\n",
    "print('Можно взять вещи в соответствии с вектором:', x)\n",
    "print('Максимальное значение функции =', f)"
   ]
  },
  {
   "cell_type": "code",
   "execution_count": 10,
   "id": "ee4f75be",
   "metadata": {},
   "outputs": [
    {
     "name": "stdout",
     "output_type": "stream",
     "text": [
      "Можно взять вещи в соответствии с вектором: [1. 1. 1. 1. 0.]\n",
      "Максимальное значение функции = 10.0\n"
     ]
    }
   ],
   "source": [
    "cost = np.array([1, 2, 3, 4, 5])\n",
    "weight = np.array([[1, 2, 3, 4, 5]])\n",
    "W = 10.0\n",
    "x, f = leng_and_doig(cost, weight, W)\n",
    "print('Можно взять вещи в соответствии с вектором:', x)\n",
    "print('Максимальное значение функции =', f)"
   ]
  },
  {
   "cell_type": "code",
   "execution_count": 11,
   "id": "29124d3a",
   "metadata": {},
   "outputs": [
    {
     "name": "stdout",
     "output_type": "stream",
     "text": [
      "Можно взять вещи в соответствии с вектором: [1. 1. 0. 0.]\n",
      "Максимальное значение функции = 3.0\n"
     ]
    }
   ],
   "source": [
    "cost = np.array([1, 2, 3, 4])\n",
    "weight = np.array([[2, 3, 5, 7]])\n",
    "W = 6\n",
    "x, f = leng_and_doig(cost, weight, W)\n",
    "print('Можно взять вещи в соответствии с вектором:', x)\n",
    "print('Максимальное значение функции =', f)"
   ]
  },
  {
   "cell_type": "code",
   "execution_count": 12,
   "id": "6fdbe582",
   "metadata": {},
   "outputs": [
    {
     "name": "stdout",
     "output_type": "stream",
     "text": [
      "Можно взять вещи в соответствии с вектором: [1. 1. 0. 1. 0.]\n",
      "Максимальное значение функции = 21.0\n"
     ]
    }
   ],
   "source": [
    "cost = np.array([5, 7, 4, 9, 8])\n",
    "weight = np.array([[4, 5, 3, 7, 6]])\n",
    "W = 16\n",
    "x, f = leng_and_doig(cost, weight, W)\n",
    "print('Можно взять вещи в соответствии с вектором:', x)\n",
    "print('Максимальное значение функции =', f)"
   ]
  },
  {
   "cell_type": "code",
   "execution_count": null,
   "id": "3d345b91",
   "metadata": {},
   "outputs": [],
   "source": []
  }
 ],
 "metadata": {
  "kernelspec": {
   "display_name": "Python 3 (ipykernel)",
   "language": "python",
   "name": "python3"
  },
  "language_info": {
   "codemirror_mode": {
    "name": "ipython",
    "version": 3
   },
   "file_extension": ".py",
   "mimetype": "text/x-python",
   "name": "python",
   "nbconvert_exporter": "python",
   "pygments_lexer": "ipython3",
   "version": "3.9.5"
  }
 },
 "nbformat": 4,
 "nbformat_minor": 5
}
